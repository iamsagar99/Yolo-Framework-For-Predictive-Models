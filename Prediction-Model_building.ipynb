{
  "cells": [
    {
      "cell_type": "code",
      "execution_count": null,
      "metadata": {
        "colab": {
          "base_uri": "https://localhost:8080/"
        },
        "id": "pmM1dop72HfK",
        "outputId": "e01a3ddc-adf0-4df3-8651-c361849c8eb1"
      },
      "outputs": [],
      "source": [
        "!git clone https://github.com/iamsagar99/Yolo-Framework-For-Predictive-Models.git"
      ]
    },
    {
      "cell_type": "markdown",
      "metadata": {},
      "source": [
        "Note: This is done with referencing Google Collab. Modify the path based upon your working environment if needed."
      ]
    },
    {
      "cell_type": "code",
      "execution_count": null,
      "metadata": {
        "colab": {
          "base_uri": "https://localhost:8080/"
        },
        "id": "TotCpH174BPu",
        "outputId": "12891f54-0d20-422b-bcaf-0fe3eba91bae"
      },
      "outputs": [],
      "source": [
        "cd /content/Yolo-Framework-For-Predictive-Models"
      ]
    },
    {
      "cell_type": "markdown",
      "metadata": {},
      "source": [
        "Import/ Download Dataset Here. [ It is recommended to use dataset from Roboflow. It structures your data in the format required by yolov8 to train]"
      ]
    },
    {
      "cell_type": "markdown",
      "metadata": {},
      "source": [
        "Change your API key if you are importing dataset from Roboflow"
      ]
    },
    {
      "cell_type": "code",
      "execution_count": null,
      "metadata": {
        "colab": {
          "base_uri": "https://localhost:8080/"
        },
        "id": "i7nQY2yu4Ee3",
        "outputId": "3f57e8f8-3f6e-4ce1-ec1d-dde1d48974df"
      },
      "outputs": [],
      "source": [
        "!pip install roboflow\n",
        "\n",
        "from roboflow import Roboflow\n",
        "rf = Roboflow(api_key=\"Your API Key\")\n",
        "project = rf.workspace(\"nymi\").project(\"octa-pda4c\")\n",
        "version = project.version(1)\n",
        "dataset = version.download(\"yolov8\")\n",
        "\n"
      ]
    },
    {
      "cell_type": "code",
      "execution_count": null,
      "metadata": {
        "colab": {
          "base_uri": "https://localhost:8080/",
          "height": 1000
        },
        "id": "qd0UgEnF5KH8",
        "outputId": "db1dc2ca-af36-4034-f4c5-696496f18810"
      },
      "outputs": [],
      "source": [
        "!pip install -r requirements.txt"
      ]
    },
    {
      "cell_type": "markdown",
      "metadata": {},
      "source": [
        "Change the path of your dataset directory. You can simply replace the folder name where <path_of_your_dataset_directory>  is written.\n",
        "You can use Different YoloV8 models. I am using yolov8n.pt here. You can vary epoches value as of your requirements\n"
      ]
    },
    {
      "cell_type": "code",
      "execution_count": null,
      "metadata": {
        "colab": {
          "base_uri": "https://localhost:8080/"
        },
        "id": "dK5DpY9D5iiu",
        "outputId": "85a1a7f6-86d8-4e95-8272-54068ff3ddd6"
      },
      "outputs": [],
      "source": [
        "!python /content/Yolo-Framework-For-Predictive-Models/ultralytics/yolo/v8/detect/train.py model=yolov8n.pt data=/content/Yolo-Framework-For-Predictive-Models/<path_of_your_dataset_directory>/data.yaml epochs=100"
      ]
    },
    {
      "cell_type": "markdown",
      "metadata": {},
      "source": [
        "After training best.pt model comes out."
      ]
    },
    {
      "cell_type": "markdown",
      "metadata": {},
      "source": [
        "using this model, you can test your custom data as per needed. Just replace the source of the of your image/videos"
      ]
    },
    {
      "cell_type": "code",
      "execution_count": null,
      "metadata": {
        "colab": {
          "base_uri": "https://localhost:8080/"
        },
        "id": "eh9d2hdFMO0l",
        "outputId": "3916593e-768f-4218-fda6-7826f3ce1374"
      },
      "outputs": [],
      "source": [
        "!python /content/Yolo-Framework-For-Predictive-Models/ultralytics/yolo/v8/detect/predict.py model='/content/Yolo-Framework-For-Predictive-Models/runs/detect/train/weights/best.pt' source='/content/Yolo-Framework-For-Predictive-Models/demo1.mp4'"
      ]
    }
  ],
  "metadata": {
    "accelerator": "GPU",
    "colab": {
      "gpuType": "T4",
      "provenance": []
    },
    "kernelspec": {
      "display_name": "Python 3",
      "name": "python3"
    },
    "language_info": {
      "name": "python"
    }
  },
  "nbformat": 4,
  "nbformat_minor": 0
}
